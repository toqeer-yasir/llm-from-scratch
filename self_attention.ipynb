{
  "nbformat": 4,
  "nbformat_minor": 0,
  "metadata": {
    "colab": {
      "provenance": [],
      "gpuType": "T4"
    },
    "kernelspec": {
      "name": "python3",
      "display_name": "Python 3"
    },
    "language_info": {
      "name": "python"
    },
    "accelerator": "GPU"
  },
  "cells": [
    {
      "cell_type": "code",
      "source": [
        "import torch\n",
        "import torch.nn as nn"
      ],
      "metadata": {
        "id": "Fs9h3JMOqanN"
      },
      "execution_count": 2,
      "outputs": []
    },
    {
      "cell_type": "code",
      "source": [
        "inputs = torch.tensor(\n",
        "[[0.43, 0.15, 0.89], # Your(x^1)\n",
        "[0.55, 0.87, 0.66], # journey(x^2)\n",
        "[0.57, 0.85, 0.64], # starts(x^3)\n",
        "[0.22, 0.58, 0.33], # with(x^4)\n",
        "[0.77, 0.25, 0.10], # one(x^5)\n",
        "[0.05, 0.80, 0.55]] # step(x^6)\n",
        ")"
      ],
      "metadata": {
        "id": "AFhc-xSZsaTR"
      },
      "execution_count": 3,
      "outputs": []
    },
    {
      "cell_type": "code",
      "source": [
        "batch = torch.stack((inputs, inputs), dim=0)\n",
        "print(batch.shape)"
      ],
      "metadata": {
        "id": "DYHBKiIWWszn"
      },
      "execution_count": null,
      "outputs": []
    },
    {
      "cell_type": "code",
      "source": [
        "class CausalAttention(nn.Module):\n",
        "    def __init__(self, d_in: int, d_out: int, context_length: int, dropout: int, qkv_bias=False):\n",
        "        super().__init__()\n",
        "        self.dropout = nn.Dropout(dropout)\n",
        "        self.context_length = context_length\n",
        "        self.W_query = nn.Linear(d_in, d_out, bias=qkv_bias)\n",
        "        self.W_key= nn.Linear(d_in, d_out, bias=qkv_bias)\n",
        "        self.W_value = nn.Linear(d_in, d_out, bias=qkv_bias)\n",
        "        self.register_buffer(\n",
        "            'mask',\n",
        "            torch.triu(torch.ones(context_length, context_length), diagonal=1)\n",
        "        )\n",
        "\n",
        "\n",
        "    def forward(self, x):\n",
        "        # here x is our input torch tensor batch(embedding of a sentence tokens)\n",
        "        b, num_tokens, d_in = x.shape\n",
        "        keys = self.W_key(x)\n",
        "        queries = self.W_query(x)\n",
        "        values = self.W_value(x)\n",
        "        attn_scores = queries @ keys.transpose(1, 2)\n",
        "        attn_scores = attn_scores.masked_fill_(self.mask.bool()[:num_tokens, :num_tokens], -torch.inf)\n",
        "        attn_weights = torch.softmax(attn_scores / keys.shape[-1]**0.5, dim=-1)\n",
        "        attn_weights = self.dropout(attn_weights)\n",
        "        context_vec = attn_weights @ values   # here i get context_vectors\n",
        "        return context_vec"
      ],
      "metadata": {
        "id": "S0G5zPwTsMPC"
      },
      "execution_count": 14,
      "outputs": []
    },
    {
      "cell_type": "code",
      "source": [
        "causal_attention = CausalAttention(d_in=3, d_out=2, context_length=6, dropout=0.1)"
      ],
      "metadata": {
        "id": "ef1sFGahvEb6"
      },
      "execution_count": 15,
      "outputs": []
    },
    {
      "cell_type": "code",
      "source": [
        "context_vec = causal_attention(batch)"
      ],
      "metadata": {
        "id": "EBw1RhdMXRvS"
      },
      "execution_count": 16,
      "outputs": []
    },
    {
      "cell_type": "code",
      "source": [
        "print(context_vec.shape)\n",
        "print(context_vec)"
      ],
      "metadata": {
        "colab": {
          "base_uri": "https://localhost:8080/"
        },
        "id": "bsmpYIg4XVz4",
        "outputId": "0f346c90-e128-461f-d91d-ce2389a99038"
      },
      "execution_count": 17,
      "outputs": [
        {
          "output_type": "stream",
          "name": "stdout",
          "text": [
            "torch.Size([2, 6, 2])\n",
            "tensor([[[ 0.4761, -0.6235],\n",
            "         [ 0.3204, -0.3609],\n",
            "         [ 0.2722, -0.2837],\n",
            "         [ 0.2158, -0.2032],\n",
            "         [ 0.1795, -0.2242],\n",
            "         [ 0.1677, -0.1560]],\n",
            "\n",
            "        [[ 0.4761, -0.6235],\n",
            "         [ 0.3204, -0.3609],\n",
            "         [ 0.2722, -0.2837],\n",
            "         [ 0.2158, -0.2032],\n",
            "         [ 0.1795, -0.2242],\n",
            "         [ 0.0980, -0.0647]]], grad_fn=<UnsafeViewBackward0>)\n"
          ]
        }
      ]
    },
    {
      "cell_type": "code",
      "source": [],
      "metadata": {
        "id": "_OPeURU4YrAb"
      },
      "execution_count": null,
      "outputs": []
    }
  ]
}